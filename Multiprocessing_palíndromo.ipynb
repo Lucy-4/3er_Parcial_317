{
  "nbformat": 4,
  "nbformat_minor": 0,
  "metadata": {
    "colab": {
      "provenance": []
    },
    "kernelspec": {
      "name": "python3",
      "display_name": "Python 3"
    },
    "language_info": {
      "name": "python"
    }
  },
  "cells": [
    {
      "cell_type": "code",
      "execution_count": null,
      "metadata": {
        "colab": {
          "base_uri": "https://localhost:8080/"
        },
        "id": "J8_KnTpX-9V3",
        "outputId": "db596e72-568f-48ef-cdca-5d0ec2574a73"
      },
      "outputs": [
        {
          "output_type": "stream",
          "name": "stdout",
          "text": [
            "Ingresa una palabra: larutanatural\n",
            "La palabra larutanatural  es un palindromo\n"
          ]
        }
      ],
      "source": [
        "import multiprocessing\n",
        "\n",
        "def is_palindrome(word):\n",
        "    return word == word[::-1]\n",
        "\n",
        "if __name__ == '__main__':\n",
        "    word = input(\"Ingresa una palabra: \")\n",
        "    pool = multiprocessing.Pool(processes=1)\n",
        "    result = pool.apply_async(is_palindrome, (word,))\n",
        "    print(f\"La palabra {word} {' es un palindromo' if result.get() else 'no es un palindromo'}\")\n"
      ]
    }
  ]
}